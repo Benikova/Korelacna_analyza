import pandas as pd

file_path = 'Datakorelacia.csv'
df = pd.read_csv(file_path)

print(df.head())
print(df.info())
print(df.describe())
